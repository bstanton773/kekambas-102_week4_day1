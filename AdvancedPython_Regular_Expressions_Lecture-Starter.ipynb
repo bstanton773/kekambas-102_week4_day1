{
 "cells": [
  {
   "cell_type": "markdown",
   "metadata": {},
   "source": [
    "# Regular Expressions"
   ]
  },
  {
   "cell_type": "markdown",
   "metadata": {},
   "source": [
    "# Tasks today:\n",
    "1) <b>Importing</b> <br>\n",
    "2) <b>Using Regular Expressions</b> <br>\n",
    " &nbsp;&nbsp;&nbsp;&nbsp; a) re.compile() <br>\n",
    " &nbsp;&nbsp;&nbsp;&nbsp; b) re.match() <br>\n",
    " &nbsp;&nbsp;&nbsp;&nbsp; c) re.findall() <br>\n",
    " &nbsp;&nbsp;&nbsp;&nbsp; d) re.search() <br>\n",
    "3) <b>Sets</b> <br>\n",
    " &nbsp;&nbsp;&nbsp;&nbsp; a) Integer Ranges <br>\n",
    " &nbsp;&nbsp;&nbsp;&nbsp; b) Character Ranges <br>\n",
    "4) <b>Counting Occurences</b> <br>\n",
    " &nbsp;&nbsp;&nbsp;&nbsp; a) {x} <br>\n",
    " &nbsp;&nbsp;&nbsp;&nbsp; b) {, x} <br>\n",
    " &nbsp;&nbsp;&nbsp;&nbsp; c) {?} <br>\n",
    " &nbsp;&nbsp;&nbsp;&nbsp; d) {*} <br>\n",
    " &nbsp;&nbsp;&nbsp;&nbsp; e) {+} <br>\n",
    "5) <b>In-Class Exercise #1</b> <br>\n",
    "6) <b>Escaping Characters</b> <br>\n",
    "7) <b>Grouping</b> <br>\n",
    "8) <b>In-Class Exercise #2</b> <br>\n",
    "9) <b>Opening a File</b> <br>\n",
    " &nbsp;&nbsp;&nbsp;&nbsp; a) open() <br>\n",
    " &nbsp;&nbsp;&nbsp;&nbsp; b) with open() <br>\n",
    " &nbsp;&nbsp;&nbsp;&nbsp; c) re.match() <br>\n",
    " &nbsp;&nbsp;&nbsp;&nbsp; d) re.search() <br>\n",
    " &nbsp;&nbsp;&nbsp;&nbsp; e) Store the String in a Variable <br>\n",
    "10) <b>Regex Project</b> <br>"
   ]
  },
  {
   "cell_type": "markdown",
   "metadata": {},
   "source": [
    "### Importing <br>\n",
    "<p>Regular Expressions are universal throughout most programming languages... They are generally imported through the module 're'.</p>"
   ]
  },
  {
   "cell_type": "code",
   "execution_count": 1,
   "metadata": {},
   "outputs": [],
   "source": [
    "# https://docs.python.org/3/library/re.html\n",
    "# import re\n",
    "import re"
   ]
  },
  {
   "cell_type": "code",
   "execution_count": 2,
   "metadata": {},
   "outputs": [
    {
     "name": "stdout",
     "output_type": "stream",
     "text": [
      "<module 're' from 'C:\\\\Users\\\\bstan\\\\anaconda3\\\\envs\\\\intro\\\\lib\\\\re.py'>\n"
     ]
    }
   ],
   "source": [
    "print(re)"
   ]
  },
  {
   "cell_type": "markdown",
   "metadata": {},
   "source": [
    "### Using Regular Expressions <br>\n",
    "<p>Regular expressions give us the ability to search for patterns within text, strings, files, etc. They serve several uses, such as; security measures, searching, filtering, pattern recognition, and more...</p>"
   ]
  },
  {
   "cell_type": "markdown",
   "metadata": {},
   "source": [
    "##### re.compile()"
   ]
  },
  {
   "cell_type": "code",
   "execution_count": 4,
   "metadata": {},
   "outputs": [
    {
     "name": "stdout",
     "output_type": "stream",
     "text": [
      "re.compile('abcd')\n"
     ]
    },
    {
     "data": {
      "text/plain": [
       "re.compile(r'abcd', re.UNICODE)"
      ]
     },
     "execution_count": 4,
     "metadata": {},
     "output_type": "execute_result"
    }
   ],
   "source": [
    "# using compile, predetermines the string to be used in regular expression methods\n",
    "pattern = re.compile('abcd')\n",
    "print(pattern)\n",
    "pattern"
   ]
  },
  {
   "cell_type": "markdown",
   "metadata": {},
   "source": [
    "##### re.match()"
   ]
  },
  {
   "cell_type": "code",
   "execution_count": 6,
   "metadata": {},
   "outputs": [
    {
     "name": "stdout",
     "output_type": "stream",
     "text": [
      "Help on built-in function match:\n",
      "\n",
      "match(string, pos=0, endpos=9223372036854775807) method of re.Pattern instance\n",
      "    Matches zero or more characters at the beginning of the string.\n",
      "\n"
     ]
    }
   ],
   "source": [
    "help(pattern.match)"
   ]
  },
  {
   "cell_type": "code",
   "execution_count": 38,
   "metadata": {},
   "outputs": [
    {
     "name": "stdout",
     "output_type": "stream",
     "text": [
      "<re.Match object; span=(0, 4), match='abcd'>\n"
     ]
    }
   ],
   "source": [
    "# calling the match method from the Pattern object - returns a Match object is there is a match\n",
    "match = pattern.match('abcd123')\n",
    "\n",
    "print(match)"
   ]
  },
  {
   "cell_type": "code",
   "execution_count": 8,
   "metadata": {},
   "outputs": [
    {
     "name": "stdout",
     "output_type": "stream",
     "text": [
      "None\n"
     ]
    }
   ],
   "source": [
    "# Returns None if there is no match *Match starts at the BEGINNING of the string\n",
    "match2 = pattern.match('123abcd')\n",
    "print(match2)"
   ]
  },
  {
   "cell_type": "code",
   "execution_count": 9,
   "metadata": {},
   "outputs": [
    {
     "name": "stdout",
     "output_type": "stream",
     "text": [
      "<re.Match object; span=(0, 4), match='abcd'>\n"
     ]
    }
   ],
   "source": [
    "# Calling the match function from the re module (as opposed to from the Pattern object), pattern is first arg\n",
    "match_again = re.match('abcd', 'abcdefghijklm')\n",
    "print(match_again)"
   ]
  },
  {
   "cell_type": "markdown",
   "metadata": {},
   "source": [
    "##### re.search()"
   ]
  },
  {
   "cell_type": "code",
   "execution_count": 10,
   "metadata": {},
   "outputs": [
    {
     "name": "stdout",
     "output_type": "stream",
     "text": [
      "Help on built-in function search:\n",
      "\n",
      "search(string, pos=0, endpos=9223372036854775807) method of re.Pattern instance\n",
      "    Scan through string looking for a match, and return a corresponding match object instance.\n",
      "    \n",
      "    Return None if no position in the string matches.\n",
      "\n"
     ]
    }
   ],
   "source": [
    "help(pattern.search)"
   ]
  },
  {
   "cell_type": "code",
   "execution_count": 13,
   "metadata": {},
   "outputs": [
    {
     "name": "stdout",
     "output_type": "stream",
     "text": [
      "<re.Match object; span=(13, 17), match='abcd'>\n"
     ]
    }
   ],
   "source": [
    "# Returns the first match that is finds when scanning through the string\n",
    "search = pattern.search('123 123 bacd abcd 321 acbd abcd')\n",
    "\n",
    "print(search)"
   ]
  },
  {
   "cell_type": "code",
   "execution_count": 14,
   "metadata": {},
   "outputs": [
    {
     "name": "stdout",
     "output_type": "stream",
     "text": [
      "None\n"
     ]
    }
   ],
   "source": [
    "# returns None if no match is found\n",
    "search2 = pattern.search('123 123 bacd dbca 321 acbd abdc')\n",
    "print(search2)"
   ]
  },
  {
   "cell_type": "code",
   "execution_count": 29,
   "metadata": {},
   "outputs": [
    {
     "name": "stdout",
     "output_type": "stream",
     "text": [
      "<re.Match object; span=(9, 13), match='abcd'>\n"
     ]
    }
   ],
   "source": [
    "# Calling the search function from the re module (as opposed to from the Pattern object), pattern is first arg\n",
    "random_string = 'dsjfkdsfhabcdefghijklm'\n",
    "search_again = re.search('abcd', random_string)\n",
    "print(search_again)"
   ]
  },
  {
   "cell_type": "code",
   "execution_count": 34,
   "metadata": {},
   "outputs": [
    {
     "name": "stdout",
     "output_type": "stream",
     "text": [
      "<class 'tuple'>\n",
      "(9, 13)\n",
      "abcd\n",
      "abcd\n"
     ]
    }
   ],
   "source": [
    "span = search_again.span()\n",
    "print(type(span))\n",
    "print(span)\n",
    "\n",
    "print(random_string[9:13])\n",
    "print(random_string[span[0]:span[1]])"
   ]
  },
  {
   "cell_type": "markdown",
   "metadata": {},
   "source": [
    "##### re.findall()"
   ]
  },
  {
   "cell_type": "code",
   "execution_count": 23,
   "metadata": {},
   "outputs": [
    {
     "name": "stdout",
     "output_type": "stream",
     "text": [
      "Help on built-in function findall:\n",
      "\n",
      "findall(string, pos=0, endpos=9223372036854775807) method of re.Pattern instance\n",
      "    Return a list of all non-overlapping matches of pattern in string.\n",
      "\n"
     ]
    }
   ],
   "source": [
    "help(pattern.findall)"
   ]
  },
  {
   "cell_type": "code",
   "execution_count": 24,
   "metadata": {},
   "outputs": [
    {
     "data": {
      "text/plain": [
       "['abcd', 'abcd', 'abcd', 'abcd']"
      ]
     },
     "execution_count": 24,
     "metadata": {},
     "output_type": "execute_result"
    }
   ],
   "source": [
    "# findall will return a list of strings of ALL of the matches in the string\n",
    "all_abcds = pattern.findall('123 abcd abcd 321 bacd dbca abcd 42342 vbabcddskfj 123')\n",
    "\n",
    "all_abcds"
   ]
  },
  {
   "cell_type": "code",
   "execution_count": 35,
   "metadata": {},
   "outputs": [
    {
     "data": {
      "text/plain": [
       "['123', '123']"
      ]
     },
     "execution_count": 35,
     "metadata": {},
     "output_type": "execute_result"
    }
   ],
   "source": [
    "nums_pattern = re.compile('123')\n",
    "all_nums = nums_pattern.findall('123 abcd abcd 321 bacd dbca abcd 42342 vbabcddskfj 123')\n",
    "all_nums"
   ]
  },
  {
   "cell_type": "code",
   "execution_count": 36,
   "metadata": {},
   "outputs": [
    {
     "data": {
      "text/plain": [
       "['abc', 'abc', 'abc', 'abc']"
      ]
     },
     "execution_count": 36,
     "metadata": {},
     "output_type": "execute_result"
    }
   ],
   "source": [
    "# Calling the findall function from the re module (as opposed to from the Pattern object), pattern is first arg\n",
    "find = re.findall('abc', 'dksfhxvcnabclksdjfkljabckdjfksjabcksjfkdsabc')\n",
    "find"
   ]
  },
  {
   "cell_type": "markdown",
   "metadata": {},
   "source": [
    "### Sets <br>\n",
    "<p>The following cells will allow you to use regular expressions to search for certain values within a range such as numbers 1 through 4.</p>"
   ]
  },
  {
   "cell_type": "markdown",
   "metadata": {},
   "source": [
    "##### [a-z] or [A-Z] - any lowercase/uppercase letters from a to z<br/>[^2] - anything that's not 2"
   ]
  },
  {
   "cell_type": "markdown",
   "metadata": {},
   "source": [
    "##### Integer Ranges"
   ]
  },
  {
   "cell_type": "code",
   "execution_count": 48,
   "metadata": {},
   "outputs": [
    {
     "data": {
      "text/plain": [
       "['36', '05', '09', '57', '39', '49', '05', '09', '38', '35']"
      ]
     },
     "execution_count": 48,
     "metadata": {},
     "output_type": "execute_result"
    }
   ],
   "source": [
    "pattern_int = re.compile('[0-5][5-9]') # Looking for any two digit number where the first digit is 0-5 and second is 5-9\n",
    "number_string = '3620578130957123943498057109387357'\n",
    "\n",
    "my_number_matches = pattern_int.findall(number_string)\n",
    "my_number_matches"
   ]
  },
  {
   "cell_type": "code",
   "execution_count": 51,
   "metadata": {},
   "outputs": [
    {
     "data": {
      "text/plain": [
       "['0', '1', '3', '4', '6', '7', '8', '9', 'a', 'b', 'c', 'd']"
      ]
     },
     "execution_count": 51,
     "metadata": {},
     "output_type": "execute_result"
    }
   ],
   "source": [
    "not_two = re.compile('[^25]')\n",
    "\n",
    "non_twos = not_two.findall('0123456789abcd')\n",
    "\n",
    "non_twos"
   ]
  },
  {
   "cell_type": "markdown",
   "metadata": {},
   "source": [
    "##### Character Ranges"
   ]
  },
  {
   "cell_type": "code",
   "execution_count": 56,
   "metadata": {},
   "outputs": [
    {
     "name": "stdout",
     "output_type": "stream",
     "text": [
      "['He', 'Th', 'Mr', 'An']\n"
     ]
    }
   ],
   "source": [
    "char_pattern = re.compile('[A-Z][a-z]') # Looking for 2 characters - a capital letter followed by a lower case letter\n",
    "\n",
    "found = char_pattern.findall('Hello There Mr. Anderson')\n",
    "print(found)"
   ]
  },
  {
   "cell_type": "code",
   "execution_count": 58,
   "metadata": {},
   "outputs": [
    {
     "data": {
      "text/plain": [
       "'uncamel This Camel'"
      ]
     },
     "execution_count": 58,
     "metadata": {},
     "output_type": "execute_result"
    }
   ],
   "source": [
    "def uncamel(cameled_string):\n",
    "    output = ''\n",
    "    for letter in cameled_string:\n",
    "        if re.match('[A-Z]', letter):\n",
    "            output += ' '\n",
    "        output += letter\n",
    "    return output\n",
    "\n",
    "\n",
    "uncamel('uncamelThisCamel')"
   ]
  },
  {
   "cell_type": "code",
   "execution_count": 69,
   "metadata": {},
   "outputs": [
    {
     "name": "stdout",
     "output_type": "stream",
     "text": [
      "['H', 'e', 'l', 'l', 'o', 't', 'o', 'd', 'a', 'y', 'i', 's', 'O', 'c', 't', 'o', 'b', 'e', 'r', 't', 'h', 'a', 'n', 'd', 'i', 't', 'i', 's', 'd', 'e', 'g', 'r', 'e', 'e', 's', 'a', 'n', 'd', 'I', 'l', 'i', 'v', 'e', 'a', 't', 'R', 'e', 'a', 'l', 'S', 't', 'r', 'e', 'e', 't']\n"
     ]
    }
   ],
   "source": [
    "# Character range - Uppercase comes first in terms of order\n",
    "\n",
    "all_alphabet = re.compile('[A-Za-z]') # Same as '[A-z]'\n",
    "\n",
    "letters = all_alphabet.findall('Hello today is October 10th and it is 66 degrees and I live at 123 Real Street')\n",
    "\n",
    "print(letters)"
   ]
  },
  {
   "cell_type": "code",
   "execution_count": 79,
   "metadata": {
    "scrolled": true
   },
   "outputs": [
    {
     "name": "stdout",
     "output_type": "stream",
     "text": [
      "Ths wbst stnks LL!\n"
     ]
    }
   ],
   "source": [
    "non_vowels = re.compile('[^aeiouAEIOU]')\n",
    "\n",
    "fixed_troll = non_vowels.findall('This website stinks LOL!')\n",
    "\n",
    "print(''.join(fixed_troll))"
   ]
  },
  {
   "cell_type": "code",
   "execution_count": 74,
   "metadata": {},
   "outputs": [
    {
     "name": "stdout",
     "output_type": "stream",
     "text": [
      "Help on method_descriptor:\n",
      "\n",
      "join(self, iterable, /)\n",
      "    Concatenate any number of strings.\n",
      "    \n",
      "    The string whose method is called is inserted in between each given string.\n",
      "    The result is returned as a new string.\n",
      "    \n",
      "    Example: '.'.join(['ab', 'pq', 'rs']) -> 'ab.pq.rs'\n",
      "\n"
     ]
    }
   ],
   "source": [
    "help(str.join)"
   ]
  },
  {
   "cell_type": "markdown",
   "metadata": {},
   "source": [
    "### Counting Occurences"
   ]
  },
  {
   "cell_type": "markdown",
   "metadata": {},
   "source": [
    "##### {x} - something that occurs {num_of_times}"
   ]
  },
  {
   "cell_type": "code",
   "execution_count": 83,
   "metadata": {},
   "outputs": [
    {
     "name": "stdout",
     "output_type": "stream",
     "text": [
      "['60606-3747', '40404-2837']\n"
     ]
    }
   ],
   "source": [
    "my_addresses = '555 Circle Drive, Chicago, IL 60606-3747; 444 Square Rd. Chicago, IL 40404-2837;'\n",
    "\n",
    "# Pattern is looing for a number in the range of 0-9 that occurs exactly 5 times\n",
    "zip_code_pattern = re.compile('[0-9]{5}-[0-9]{4}')\n",
    "\n",
    "zip_codes = zip_code_pattern.findall(my_addresses)\n",
    "\n",
    "print(zip_codes)"
   ]
  },
  {
   "cell_type": "markdown",
   "metadata": {},
   "source": [
    "##### {x, y} - something that occurs between x and y times"
   ]
  },
  {
   "cell_type": "code",
   "execution_count": 86,
   "metadata": {},
   "outputs": [
    {
     "data": {
      "text/plain": [
       "['555', '60606', '2345', '34980', '73209', '47328', '1947']"
      ]
     },
     "execution_count": 86,
     "metadata": {},
     "output_type": "execute_result"
    }
   ],
   "source": [
    "my_new_address = '555 Circle Drive Apt 1, Chicago, IL 60606-2345, 3498073209473281947'\n",
    "\n",
    "# Pattern is looking for a 0-9 digit that occurs between 3 and 5 times. Will try to do the most possible aka 5 if possible\n",
    "three_to_five = re.compile('[0-9]{3,5}')\n",
    "\n",
    "found_nums = three_to_five.findall(my_new_address)\n",
    "\n",
    "found_nums"
   ]
  },
  {
   "cell_type": "markdown",
   "metadata": {},
   "source": [
    "##### ? - something that occurs 0 or 1 time"
   ]
  },
  {
   "cell_type": "code",
   "execution_count": 95,
   "metadata": {},
   "outputs": [],
   "source": [
    "test_string = \"Hello Mrrrrrr. and Mrrrrrrsssssssssssss. Anderson. Have you seen Ms. Smith? My favorite letter is M\""
   ]
  },
  {
   "cell_type": "code",
   "execution_count": 96,
   "metadata": {},
   "outputs": [
    {
     "name": "stdout",
     "output_type": "stream",
     "text": [
      "['Mr', 'Mr', 'Ms', 'M', 'M']\n"
     ]
    }
   ],
   "source": [
    "\n",
    "my_pattern = re.compile('Mr?s?') # M, Mr, Ms, Mrs == 'Mr{0,1}s{0,1}'\n",
    "\n",
    "found_pattern = my_pattern.findall(test_string)\n",
    "\n",
    "print(found_pattern)"
   ]
  },
  {
   "cell_type": "markdown",
   "metadata": {},
   "source": [
    "##### * - something that occurs at least 0 times"
   ]
  },
  {
   "cell_type": "code",
   "execution_count": 97,
   "metadata": {},
   "outputs": [
    {
     "name": "stdout",
     "output_type": "stream",
     "text": [
      "['Mrrrrrr', 'Mrrrrrrsssssssssssss', 'Ms', 'M', 'M']\n"
     ]
    }
   ],
   "source": [
    "new_pattern = re.compile('Mr*s*') # Mr{0,infiniti}s{0,infiniti} min of 0, max of as many as possible\n",
    "\n",
    "new_found = new_pattern.findall(test_string)\n",
    "\n",
    "print(new_found)"
   ]
  },
  {
   "cell_type": "markdown",
   "metadata": {},
   "source": [
    "##### + - something that occurs at least once"
   ]
  },
  {
   "cell_type": "code",
   "execution_count": 98,
   "metadata": {},
   "outputs": [
    {
     "name": "stdout",
     "output_type": "stream",
     "text": [
      "['Mrrrrrrsssssssssssss']\n"
     ]
    }
   ],
   "source": [
    "at_least_one = re.compile('Mr+s+')\n",
    "\n",
    "found_one = at_least_one.findall(test_string)\n",
    "\n",
    "print(found_one)"
   ]
  },
  {
   "cell_type": "code",
   "execution_count": 103,
   "metadata": {},
   "outputs": [
    {
     "data": {
      "text/plain": [
       "['4b', '', '4', '4b', 'b', '', 'a', 'b', 'c', '']"
      ]
     },
     "execution_count": 103,
     "metadata": {},
     "output_type": "execute_result"
    }
   ],
   "source": [
    "digit_before_char = re.compile('[0-9]?[a-z]?')\n",
    "\n",
    "digit_before_char.findall('4b 44bb abc')"
   ]
  },
  {
   "cell_type": "markdown",
   "metadata": {},
   "source": [
    "##### In-class exercise 1: \n",
    "\n",
    "Use a regular expression to find every number in the given string"
   ]
  },
  {
   "cell_type": "code",
   "execution_count": 108,
   "metadata": {},
   "outputs": [
    {
     "data": {
      "text/plain": [
       "['109090900990', '1', '2']"
      ]
     },
     "execution_count": 108,
     "metadata": {},
     "output_type": "execute_result"
    }
   ],
   "source": [
    "my_string = \"This string has 109090900990 numbers, but it is only 1 string. I hope you solve this 2day.\"\n",
    "\n",
    "# Output: ['10909090','1', '2']\n",
    "digits_pattern = re.compile('[0-9]+')\n",
    "\n",
    "digits_pattern.findall(my_string)"
   ]
  },
  {
   "cell_type": "markdown",
   "metadata": {},
   "source": [
    "### Escaping Characters"
   ]
  },
  {
   "cell_type": "code",
   "execution_count": 112,
   "metadata": {},
   "outputs": [
    {
     "data": {
      "text/plain": [
       "<re.Match object; span=(31, 33), match='??'>"
      ]
     },
     "execution_count": 112,
     "metadata": {},
     "output_type": "execute_result"
    }
   ],
   "source": [
    "my_question = 'How do I find the question mark??'\n",
    "\n",
    "re.search('\\?+', my_question)"
   ]
  },
  {
   "cell_type": "markdown",
   "metadata": {},
   "source": [
    "##### \\w - look for any Unicode character<br/>\\W - look for anything that isnt a Unicode character\n",
    "\n",
    "[History on Unicode](http://unicode.org/standard/WhatIsUnicode.html)\n",
    "\n",
    "[More on Unicode Characters](https://en.wikipedia.org/wiki/List_of_Unicode_characters)"
   ]
  },
  {
   "cell_type": "code",
   "execution_count": 114,
   "metadata": {},
   "outputs": [
    {
     "name": "stdout",
     "output_type": "stream",
     "text": [
      "['T', 'h', 'i', 's', 'i', 's', 'a', 's', 'e', 'n', 't', 'e', 'n', 'c', 'e', 'w', 'i', 't', 'h', 'a', 'n', 'e', 'x', 'c', 'l', 'a', 'm', 'a', 't', 'i', 'o', 'n', 'm', 'a', 'r', 'k', 'a', 't', 't', 'h', 'e', 'e', 'n', 'd', 'f', 'i', 'r', 's', 't', '_', 'n', 'a', 'm', 'e', '1', '2', '3', '4', '5', '6']\n"
     ]
    }
   ],
   "source": [
    "sentence = 'This is a sentence. with an, exclamation mark at the end! \\n first_name 123-456'\n",
    "\n",
    "letter_pattern = re.compile('\\w') # [a-zA-Z0-9_]\n",
    "\n",
    "letters = letter_pattern.findall(sentence)\n",
    "\n",
    "print(letters)"
   ]
  },
  {
   "cell_type": "code",
   "execution_count": 115,
   "metadata": {},
   "outputs": [
    {
     "name": "stdout",
     "output_type": "stream",
     "text": [
      "['This', 'is', 'a', 'sentence', 'with', 'an', 'exclamation', 'mark', 'at', 'the', 'end', 'first_name', '123', '456']\n"
     ]
    }
   ],
   "source": [
    "word_pattern = re.compile('\\w+') # find characters that add up to words\n",
    "\n",
    "words = word_pattern.findall(sentence)\n",
    "\n",
    "print(words)"
   ]
  },
  {
   "cell_type": "code",
   "execution_count": 117,
   "metadata": {},
   "outputs": [
    {
     "name": "stdout",
     "output_type": "stream",
     "text": [
      "[' ', ' ', ' ', '.', ' ', ' ', ',', ' ', ' ', ' ', ' ', ' ', '!', ' ', '\\n', ' ', ' ', '-']\n"
     ]
    }
   ],
   "source": [
    "non_letter_pattern = re.compile('\\W') # [^a-zA-Z0-9_]\n",
    "\n",
    "non_letters = non_letter_pattern.findall(sentence)\n",
    "\n",
    "print(non_letters)"
   ]
  },
  {
   "cell_type": "markdown",
   "metadata": {},
   "source": [
    "##### \\d - look for any digit 0-9<br/>\\D - look for anything that isnt a digit"
   ]
  },
  {
   "cell_type": "code",
   "execution_count": 119,
   "metadata": {},
   "outputs": [
    {
     "name": "stdout",
     "output_type": "stream",
     "text": [
      "['1', '59', '10', '10', '2022']\n"
     ]
    }
   ],
   "source": [
    "some_string = 'Hello it is 1:59PM on 10/10/2022'\n",
    "\n",
    "digit_pat = re.compile('\\d+') # '[0-9]'\n",
    "\n",
    "digits = digit_pat.findall(some_string)\n",
    "\n",
    "print(digits)"
   ]
  },
  {
   "cell_type": "code",
   "execution_count": 122,
   "metadata": {},
   "outputs": [
    {
     "name": "stdout",
     "output_type": "stream",
     "text": [
      "['H', 'e', 'l', 'l', 'o', ' ', 'i', 't', ' ', 'i', 's', ' ', ':', 'P', 'M', ' ', 'o', 'n', ' ', '/', '/']\n"
     ]
    }
   ],
   "source": [
    "non_digit_pat = re.compile('\\D') # '[^0-9]'\n",
    "\n",
    "non_digits = non_digit_pat.findall(some_string)\n",
    "\n",
    "print(non_digits)"
   ]
  },
  {
   "cell_type": "markdown",
   "metadata": {},
   "source": [
    "##### \\s - look for any white space<br/>\\S - look for anything that isnt whitespace"
   ]
  },
  {
   "cell_type": "code",
   "execution_count": 126,
   "metadata": {},
   "outputs": [
    {
     "name": "stdout",
     "output_type": "stream",
     "text": [
      "This is a sentence.\t with an, exclamation mark at the end!!\n",
      " first_name \t 123-456\n"
     ]
    }
   ],
   "source": [
    "crazy_sentence = \"This is a sentence.\\t with an, exclamation mark at the end!!\\n first_name \\t 123-456\"\n",
    "print(crazy_sentence)"
   ]
  },
  {
   "cell_type": "code",
   "execution_count": 127,
   "metadata": {},
   "outputs": [
    {
     "name": "stdout",
     "output_type": "stream",
     "text": [
      "[' ', ' ', ' ', '\\t', ' ', ' ', ' ', ' ', ' ', ' ', ' ', '\\n', ' ', ' ', '\\t', ' ']\n"
     ]
    }
   ],
   "source": [
    "space_pattern = re.compile('\\s') # '[ \\n\\t\\r\\f\\v]'\n",
    "\n",
    "whitespace = space_pattern.findall(crazy_sentence)\n",
    "\n",
    "print(whitespace)"
   ]
  },
  {
   "cell_type": "code",
   "execution_count": 129,
   "metadata": {},
   "outputs": [
    {
     "name": "stdout",
     "output_type": "stream",
     "text": [
      "['T', 'h', 'i', 's', 'i', 's', 'a', 's', 'e', 'n', 't', 'e', 'n', 'c', 'e', '.', 'w', 'i', 't', 'h', 'a', 'n', ',', 'e', 'x', 'c', 'l', 'a', 'm', 'a', 't', 'i', 'o', 'n', 'm', 'a', 'r', 'k', 'a', 't', 't', 'h', 'e', 'e', 'n', 'd', '!', '!', 'f', 'i', 'r', 's', 't', '_', 'n', 'a', 'm', 'e', '1', '2', '3', '-', '4', '5', '6']\n"
     ]
    }
   ],
   "source": [
    "non_space_pattern = re.compile('\\S') # '[^ \\n\\t\\r\\f\\v]'\n",
    "\n",
    "non_whitespace = non_space_pattern.findall(crazy_sentence)\n",
    "\n",
    "print(non_whitespace)"
   ]
  },
  {
   "cell_type": "code",
   "execution_count": 130,
   "metadata": {},
   "outputs": [
    {
     "name": "stdout",
     "output_type": "stream",
     "text": [
      "['This', 'is', 'a', 'sentence.', 'with', 'an,', 'exclamation', 'mark', 'at', 'the', 'end!', 'first_name', '123-456']\n"
     ]
    }
   ],
   "source": [
    "words_with_chars_pattern = re.compile('\\S+')\n",
    "\n",
    "words_with_chars = words_with_chars_pattern.findall(sentence)\n",
    "\n",
    "print(words_with_chars)"
   ]
  },
  {
   "cell_type": "markdown",
   "metadata": {},
   "source": [
    "##### \\b - look for boundaries or edges of a word<br/>\\B - look for anything that isnt a boundary"
   ]
  },
  {
   "cell_type": "code",
   "execution_count": 134,
   "metadata": {},
   "outputs": [
    {
     "name": "stdout",
     "output_type": "stream",
     "text": [
      "Hello\\bWorld\n"
     ]
    }
   ],
   "source": [
    "print(r\"Hello\\bWorld\")"
   ]
  },
  {
   "cell_type": "code",
   "execution_count": 137,
   "metadata": {},
   "outputs": [
    {
     "data": {
      "text/plain": [
       "['cat']"
      ]
     },
     "execution_count": 137,
     "metadata": {},
     "output_type": "execute_result"
    }
   ],
   "source": [
    "rhyme = \"The cat knows how to scat\"\n",
    "\n",
    "pattern_boundary = re.compile(r'\\bcat\\b')\n",
    "\n",
    "pattern_boundary.findall(rhyme)"
   ]
  },
  {
   "cell_type": "code",
   "execution_count": 140,
   "metadata": {},
   "outputs": [
    {
     "name": "stdout",
     "output_type": "stream",
     "text": [
      "['T', 'h', 'e', 'c', 'a', 't', 'k', 'n', 'o', 'w', 's', 'h', 'o', 'w', 't', 'o', 's', 'c', 'a', 't']\n",
      "[' ', ' ', ' ', ' ', ' ']\n"
     ]
    }
   ],
   "source": [
    "print(letter_pattern.findall(rhyme))\n",
    "print(non_letter_pattern.findall(rhyme))"
   ]
  },
  {
   "cell_type": "code",
   "execution_count": 143,
   "metadata": {},
   "outputs": [
    {
     "data": {
      "text/plain": [
       "<re.Match object; span=(22, 25), match='cat'>"
      ]
     },
     "execution_count": 143,
     "metadata": {},
     "output_type": "execute_result"
    }
   ],
   "source": [
    "non_boundary = re.compile(r'\\Bcat')\n",
    "\n",
    "non_boundary.search(rhyme)"
   ]
  },
  {
   "cell_type": "markdown",
   "metadata": {},
   "source": [
    "### Grouping"
   ]
  },
  {
   "cell_type": "code",
   "execution_count": 169,
   "metadata": {},
   "outputs": [
    {
     "name": "stdout",
     "output_type": "stream",
     "text": [
      "[('Max', 'Smith'), ('Sam', 'Darnold'), ('LeBron', 'James'), ('Micheal', 'Jordan'), ('Kevin', 'Durant'), ('Patrick', 'McCormick')]\n",
      "('Max', 'Smith') <class 'tuple'>\n",
      "('Sam', 'Darnold') <class 'tuple'>\n",
      "('LeBron', 'James') <class 'tuple'>\n",
      "('Micheal', 'Jordan') <class 'tuple'>\n",
      "('Kevin', 'Durant') <class 'tuple'>\n",
      "('Patrick', 'McCormick') <class 'tuple'>\n"
     ]
    }
   ],
   "source": [
    "my_string_again = \"Max Smith, aaron rodgers, Sam Darnold,LeBron James, Micheal Jordan, Kevin Durant, Patrick McCormick\"\n",
    "\n",
    "# Group of names Regular Expression Compiler\n",
    "# [A-Z][a-zA-Z]+ [A-Z][a-zA-Z]+ - Uppercase letter followed by at least one other lower or uppercase character followed by\n",
    "# a space and then an uppercase letter followed by at least one of upper or lowercase letter \n",
    "\n",
    "name_pattern = re.compile('(?P<given_name>[A-Z][a-zA-Z]+) (?P<family_name>[A-Z][a-zA-Z]+)')\n",
    "\n",
    "names = name_pattern.findall(my_string_again)\n",
    "\n",
    "print(names)\n",
    "\n",
    "for name in names:\n",
    "    print(name, type(name))"
   ]
  },
  {
   "cell_type": "code",
   "execution_count": 170,
   "metadata": {
    "scrolled": true
   },
   "outputs": [
    {
     "name": "stdout",
     "output_type": "stream",
     "text": [
      "<re.Match object; span=(0, 9), match='Max Smith'>\n",
      "Max\n"
     ]
    }
   ],
   "source": [
    "my_match = name_pattern.match(my_string_again)\n",
    "print(my_match)\n",
    "print(my_match.group(1))"
   ]
  },
  {
   "cell_type": "code",
   "execution_count": 171,
   "metadata": {},
   "outputs": [
    {
     "name": "stdout",
     "output_type": "stream",
     "text": [
      "Help on built-in function group:\n",
      "\n",
      "group(...) method of re.Match instance\n",
      "    group([group1, ...]) -> str or tuple.\n",
      "    Return subgroup(s) of the match by indices or names.\n",
      "    For 0 returns the entire match.\n",
      "\n"
     ]
    }
   ],
   "source": [
    "help(my_match.group)"
   ]
  },
  {
   "cell_type": "code",
   "execution_count": 173,
   "metadata": {},
   "outputs": [
    {
     "name": "stdout",
     "output_type": "stream",
     "text": [
      "Smith\n"
     ]
    }
   ],
   "source": [
    "print(my_match.group('family_name'))"
   ]
  },
  {
   "cell_type": "markdown",
   "metadata": {},
   "source": [
    "##### In-class Exercise 2:\n",
    "\n",
    "Write a function using regular expressions to find if the given email address is valid (and return None for the invalid email addresses)<br><b>HINT: Use '|' for either or</b>"
   ]
  },
  {
   "cell_type": "code",
   "execution_count": 179,
   "metadata": {},
   "outputs": [
    {
     "name": "stdout",
     "output_type": "stream",
     "text": [
      "None\n",
      "pocohontas1776@gmail.com\n",
      "None\n",
      "yourfavoriteband@g6.org\n",
      "None\n"
     ]
    }
   ],
   "source": [
    "my_emails = [\"jordanw@codingtemple.orgcom\", \"pocohontas1776@gmail.com\", \"helloworld@aol..com\",\n",
    "             \"yourfavoriteband@g6.org\", \"@codingtemple.com\"]\n",
    "\n",
    "# You can also use the $ at the end of your compile expression -- this stops the search\n",
    "\n",
    "#Expected output:\n",
    "#None\n",
    "#pocohontas1776@gmail.com\n",
    "#None\n",
    "#yourfavoriteband@g6.org\n",
    "#None\n",
    "\n",
    "def is_valid_email(email_address):\n",
    "    # return the email address if it is valid, return None if not\n",
    "    valid_email_pattern = re.compile('[\\w]+@[\\w]+\\.(org|com)$')\n",
    "    match = valid_email_pattern.match(email_address)\n",
    "    if match:\n",
    "        return email_address\n",
    "\n",
    "\n",
    "for email in my_emails:\n",
    "    print(is_valid_email(email))"
   ]
  },
  {
   "cell_type": "markdown",
   "metadata": {},
   "source": [
    "### Opening a File <br>\n",
    "<p>Python gives us a couple ways to import files, below are the two used most often.</p>"
   ]
  },
  {
   "cell_type": "markdown",
   "metadata": {},
   "source": [
    "##### open()"
   ]
  },
  {
   "cell_type": "code",
   "execution_count": 180,
   "metadata": {
    "scrolled": true
   },
   "outputs": [
    {
     "name": "stdout",
     "output_type": "stream",
     "text": [
      "Help on built-in function open in module io:\n",
      "\n",
      "open(file, mode='r', buffering=-1, encoding=None, errors=None, newline=None, closefd=True, opener=None)\n",
      "    Open file and return a stream.  Raise OSError upon failure.\n",
      "    \n",
      "    file is either a text or byte string giving the name (and the path\n",
      "    if the file isn't in the current working directory) of the file to\n",
      "    be opened or an integer file descriptor of the file to be\n",
      "    wrapped. (If a file descriptor is given, it is closed when the\n",
      "    returned I/O object is closed, unless closefd is set to False.)\n",
      "    \n",
      "    mode is an optional string that specifies the mode in which the file\n",
      "    is opened. It defaults to 'r' which means open for reading in text\n",
      "    mode.  Other common values are 'w' for writing (truncating the file if\n",
      "    it already exists), 'x' for creating and writing to a new file, and\n",
      "    'a' for appending (which on some Unix systems, means that all writes\n",
      "    append to the end of the file regardless of the current seek position).\n",
      "    In text mode, if encoding is not specified the encoding used is platform\n",
      "    dependent: locale.getpreferredencoding(False) is called to get the\n",
      "    current locale encoding. (For reading and writing raw bytes use binary\n",
      "    mode and leave encoding unspecified.) The available modes are:\n",
      "    \n",
      "    ========= ===============================================================\n",
      "    Character Meaning\n",
      "    --------- ---------------------------------------------------------------\n",
      "    'r'       open for reading (default)\n",
      "    'w'       open for writing, truncating the file first\n",
      "    'x'       create a new file and open it for writing\n",
      "    'a'       open for writing, appending to the end of the file if it exists\n",
      "    'b'       binary mode\n",
      "    't'       text mode (default)\n",
      "    '+'       open a disk file for updating (reading and writing)\n",
      "    'U'       universal newline mode (deprecated)\n",
      "    ========= ===============================================================\n",
      "    \n",
      "    The default mode is 'rt' (open for reading text). For binary random\n",
      "    access, the mode 'w+b' opens and truncates the file to 0 bytes, while\n",
      "    'r+b' opens the file without truncation. The 'x' mode implies 'w' and\n",
      "    raises an `FileExistsError` if the file already exists.\n",
      "    \n",
      "    Python distinguishes between files opened in binary and text modes,\n",
      "    even when the underlying operating system doesn't. Files opened in\n",
      "    binary mode (appending 'b' to the mode argument) return contents as\n",
      "    bytes objects without any decoding. In text mode (the default, or when\n",
      "    't' is appended to the mode argument), the contents of the file are\n",
      "    returned as strings, the bytes having been first decoded using a\n",
      "    platform-dependent encoding or using the specified encoding if given.\n",
      "    \n",
      "    'U' mode is deprecated and will raise an exception in future versions\n",
      "    of Python.  It has no effect in Python 3.  Use newline to control\n",
      "    universal newlines mode.\n",
      "    \n",
      "    buffering is an optional integer used to set the buffering policy.\n",
      "    Pass 0 to switch buffering off (only allowed in binary mode), 1 to select\n",
      "    line buffering (only usable in text mode), and an integer > 1 to indicate\n",
      "    the size of a fixed-size chunk buffer.  When no buffering argument is\n",
      "    given, the default buffering policy works as follows:\n",
      "    \n",
      "    * Binary files are buffered in fixed-size chunks; the size of the buffer\n",
      "      is chosen using a heuristic trying to determine the underlying device's\n",
      "      \"block size\" and falling back on `io.DEFAULT_BUFFER_SIZE`.\n",
      "      On many systems, the buffer will typically be 4096 or 8192 bytes long.\n",
      "    \n",
      "    * \"Interactive\" text files (files for which isatty() returns True)\n",
      "      use line buffering.  Other text files use the policy described above\n",
      "      for binary files.\n",
      "    \n",
      "    encoding is the name of the encoding used to decode or encode the\n",
      "    file. This should only be used in text mode. The default encoding is\n",
      "    platform dependent, but any encoding supported by Python can be\n",
      "    passed.  See the codecs module for the list of supported encodings.\n",
      "    \n",
      "    errors is an optional string that specifies how encoding errors are to\n",
      "    be handled---this argument should not be used in binary mode. Pass\n",
      "    'strict' to raise a ValueError exception if there is an encoding error\n",
      "    (the default of None has the same effect), or pass 'ignore' to ignore\n",
      "    errors. (Note that ignoring encoding errors can lead to data loss.)\n",
      "    See the documentation for codecs.register or run 'help(codecs.Codec)'\n",
      "    for a list of the permitted encoding error strings.\n",
      "    \n",
      "    newline controls how universal newlines works (it only applies to text\n",
      "    mode). It can be None, '', '\\n', '\\r', and '\\r\\n'.  It works as\n",
      "    follows:\n",
      "    \n",
      "    * On input, if newline is None, universal newlines mode is\n",
      "      enabled. Lines in the input can end in '\\n', '\\r', or '\\r\\n', and\n",
      "      these are translated into '\\n' before being returned to the\n",
      "      caller. If it is '', universal newline mode is enabled, but line\n",
      "      endings are returned to the caller untranslated. If it has any of\n",
      "      the other legal values, input lines are only terminated by the given\n",
      "      string, and the line ending is returned to the caller untranslated.\n",
      "    \n",
      "    * On output, if newline is None, any '\\n' characters written are\n",
      "      translated to the system default line separator, os.linesep. If\n",
      "      newline is '' or '\\n', no translation takes place. If newline is any\n",
      "      of the other legal values, any '\\n' characters written are translated\n",
      "      to the given string.\n",
      "    \n",
      "    If closefd is False, the underlying file descriptor will be kept open\n",
      "    when the file is closed. This does not work when a file name is given\n",
      "    and must be True in that case.\n",
      "    \n",
      "    A custom opener can be used by passing a callable as *opener*. The\n",
      "    underlying file descriptor for the file object is then obtained by\n",
      "    calling *opener* with (*file*, *flags*). *opener* must return an open\n",
      "    file descriptor (passing os.open as *opener* results in functionality\n",
      "    similar to passing None).\n",
      "    \n",
      "    open() returns a file object whose type depends on the mode, and\n",
      "    through which the standard file operations such as reading and writing\n",
      "    are performed. When open() is used to open a file in a text mode ('w',\n",
      "    'r', 'wt', 'rt', etc.), it returns a TextIOWrapper. When used to open\n",
      "    a file in a binary mode, the returned class varies: in read binary\n",
      "    mode, it returns a BufferedReader; in write binary and append binary\n",
      "    modes, it returns a BufferedWriter, and in read/write mode, it returns\n",
      "    a BufferedRandom.\n",
      "    \n",
      "    It is also possible to use a string or bytearray as a file for both\n",
      "    reading and writing. For strings StringIO can be used like a file\n",
      "    opened in a text mode, and for bytes a BytesIO can be used like a file\n",
      "    opened in a binary mode.\n",
      "\n"
     ]
    }
   ],
   "source": [
    "help(open)"
   ]
  },
  {
   "cell_type": "code",
   "execution_count": 181,
   "metadata": {},
   "outputs": [
    {
     "name": "stdout",
     "output_type": "stream",
     "text": [
      "<_io.TextIOWrapper name='names.txt' mode='r' encoding='cp1252'>\n"
     ]
    },
    {
     "data": {
      "text/plain": [
       "<_io.TextIOWrapper name='names.txt' mode='r' encoding='cp1252'>"
      ]
     },
     "execution_count": 181,
     "metadata": {},
     "output_type": "execute_result"
    }
   ],
   "source": [
    "file = open('names.txt')\n",
    "\n",
    "print(file)\n",
    "\n",
    "file"
   ]
  },
  {
   "cell_type": "code",
   "execution_count": 189,
   "metadata": {},
   "outputs": [
    {
     "data": {
      "text/plain": [
       "'This is a test'"
      ]
     },
     "execution_count": 189,
     "metadata": {},
     "output_type": "execute_result"
    }
   ],
   "source": [
    "test_file = open('../../week3/day2/test.txt')\n",
    "\n",
    "test_file.read()"
   ]
  },
  {
   "cell_type": "code",
   "execution_count": 183,
   "metadata": {},
   "outputs": [
    {
     "name": "stdout",
     "output_type": "stream",
     "text": [
      "Hawkins, Derek\tderek@codingtemple.com\t(555) 555-5555\tTeacher, Coding Temple\t@derekhawkins\n",
      "Stanton, Brian\tbrians@codingtemple.com\t(555) 555-5554\tTeacher, Coding Temple\n",
      "Johnson, Joe\tjoejohnson@codingtemple.com\t\tJohson, Joe\n",
      "Osterberg, Sven-Erik\tgovernor@norrbotten.co.se\t\tGovernor, Norrbotten\t@sverik\n",
      ", Tim\ttim@killerrabbit.com\t\tEnchanter, Killer Rabbit Cave\n",
      "Butz, Ryan\tryanb@codingtemple.com\t(555) 555-5543\tCEO, Coding Temple\t@ryanbutz\n",
      "Doctor, The\tdoctor+companion@tardis.co.uk\t\tTime Lord, Gallifrey\n",
      "Exampleson, Example\tme@example.com\t555-555-5552\tExample, Example Co.\t@example\n",
      "Pael, Ripal\tripalp@codingtemple.com\t(555) 555-5553\tTeacher, Coding Temple\t@ripalp\n",
      "Vader, Darth\tdarth-vader@empire.gov\t(555) 555-4444\tSith Lord, Galactic Empire\t@darthvader\n",
      "Fernandez de la Vega Sanz, Maria Teresa\tmtfvs@spain.gov\t\tFirst Deputy Prime Minister, Spanish Gov\n",
      "\n"
     ]
    }
   ],
   "source": [
    "data = file.read()\n",
    "\n",
    "print(data)"
   ]
  },
  {
   "cell_type": "code",
   "execution_count": 184,
   "metadata": {},
   "outputs": [
    {
     "data": {
      "text/plain": [
       "'Hawkins, Derek\\tderek@codingtemple.com\\t(555) 555-5555\\tTeacher, Coding Temple\\t@derekhawkins\\nStanton, Brian\\tbrians@codingtemple.com\\t(555) 555-5554\\tTeacher, Coding Temple\\nJohnson, Joe\\tjoejohnson@codingtemple.com\\t\\tJohson, Joe\\nOsterberg, Sven-Erik\\tgovernor@norrbotten.co.se\\t\\tGovernor, Norrbotten\\t@sverik\\n, Tim\\ttim@killerrabbit.com\\t\\tEnchanter, Killer Rabbit Cave\\nButz, Ryan\\tryanb@codingtemple.com\\t(555) 555-5543\\tCEO, Coding Temple\\t@ryanbutz\\nDoctor, The\\tdoctor+companion@tardis.co.uk\\t\\tTime Lord, Gallifrey\\nExampleson, Example\\tme@example.com\\t555-555-5552\\tExample, Example Co.\\t@example\\nPael, Ripal\\tripalp@codingtemple.com\\t(555) 555-5553\\tTeacher, Coding Temple\\t@ripalp\\nVader, Darth\\tdarth-vader@empire.gov\\t(555) 555-4444\\tSith Lord, Galactic Empire\\t@darthvader\\nFernandez de la Vega Sanz, Maria Teresa\\tmtfvs@spain.gov\\t\\tFirst Deputy Prime Minister, Spanish Gov\\n'"
      ]
     },
     "execution_count": 184,
     "metadata": {},
     "output_type": "execute_result"
    }
   ],
   "source": [
    "data"
   ]
  },
  {
   "cell_type": "code",
   "execution_count": 185,
   "metadata": {},
   "outputs": [],
   "source": [
    "file.close()"
   ]
  },
  {
   "cell_type": "code",
   "execution_count": 186,
   "metadata": {
    "scrolled": true
   },
   "outputs": [
    {
     "ename": "ValueError",
     "evalue": "I/O operation on closed file.",
     "output_type": "error",
     "traceback": [
      "\u001b[1;31m---------------------------------------------------------------------------\u001b[0m",
      "\u001b[1;31mValueError\u001b[0m                                Traceback (most recent call last)",
      "\u001b[1;32m<ipython-input-186-f3fc120c03c1>\u001b[0m in \u001b[0;36m<module>\u001b[1;34m\u001b[0m\n\u001b[1;32m----> 1\u001b[1;33m \u001b[0mfile\u001b[0m\u001b[1;33m.\u001b[0m\u001b[0mread\u001b[0m\u001b[1;33m(\u001b[0m\u001b[1;33m)\u001b[0m\u001b[1;33m\u001b[0m\u001b[1;33m\u001b[0m\u001b[0m\n\u001b[0m",
      "\u001b[1;31mValueError\u001b[0m: I/O operation on closed file."
     ]
    }
   ],
   "source": [
    "file.read()"
   ]
  },
  {
   "cell_type": "markdown",
   "metadata": {},
   "source": [
    "##### with open()"
   ]
  },
  {
   "cell_type": "code",
   "execution_count": 205,
   "metadata": {},
   "outputs": [
    {
     "name": "stdout",
     "output_type": "stream",
     "text": [
      "Hawkins, Derek\tderek@codingtemple.com\t(555) 555-5555\tTeacher, Coding Temple\t@derekhawkins\n",
      "Stanton, Brian\tbrians@codingtemple.com\t(555) 555-5554\tTeacher, Coding Temple\n",
      "Johnson, Joe\tjoejohnson@codingtemple.com\t\tJohson, Joe\n",
      "Osterberg, Sven-Erik\tgovernor@norrbotten.co.se\t\tGovernor, Norrbotten\t@sverik\n",
      ", Tim\ttim@killerrabbit.com\t\tEnchanter, Killer Rabbit Cave\n",
      "Butz, Ryan\tryanb@codingtemple.com\t(555) 555-5543\tCEO, Coding Temple\t@ryanbutz\n",
      "Doctor, The\tdoctor+companion@tardis.co.uk\t\tTime Lord, Gallifrey\n",
      "Exampleson, Example\tme@example.com\t555-555-5552\tExample, Example Co.\t@example\n",
      "Patel, Ripal\tripalp@codingtemple.com\t(555) 555-5553\tTeacher, Coding Temple\t@ripalp\n",
      "Vader, Darth\tdarth-vader@empire.gov\t(555) 555-4444\tSith Lord, Galactic Empire\t@darthvader\n",
      "Fernandez de la Vega Sanz, Maria Teresa\tmtfvs@spain.gov\t\tFirst Deputy Prime Minister, Spanish Gov\n",
      "\n"
     ]
    }
   ],
   "source": [
    "with open('names.txt') as new_file:\n",
    "    data2 = new_file.read()\n",
    "    print(data2)"
   ]
  },
  {
   "cell_type": "code",
   "execution_count": 206,
   "metadata": {},
   "outputs": [
    {
     "ename": "ValueError",
     "evalue": "I/O operation on closed file.",
     "output_type": "error",
     "traceback": [
      "\u001b[1;31m---------------------------------------------------------------------------\u001b[0m",
      "\u001b[1;31mValueError\u001b[0m                                Traceback (most recent call last)",
      "\u001b[1;32m<ipython-input-206-778738246546>\u001b[0m in \u001b[0;36m<module>\u001b[1;34m\u001b[0m\n\u001b[1;32m----> 1\u001b[1;33m \u001b[0mnew_file\u001b[0m\u001b[1;33m.\u001b[0m\u001b[0mread\u001b[0m\u001b[1;33m(\u001b[0m\u001b[1;33m)\u001b[0m\u001b[1;33m\u001b[0m\u001b[1;33m\u001b[0m\u001b[0m\n\u001b[0m",
      "\u001b[1;31mValueError\u001b[0m: I/O operation on closed file."
     ]
    }
   ],
   "source": [
    "new_file.read()"
   ]
  },
  {
   "cell_type": "code",
   "execution_count": 207,
   "metadata": {},
   "outputs": [
    {
     "name": "stdout",
     "output_type": "stream",
     "text": [
      "<class 'str'>\n"
     ]
    }
   ],
   "source": [
    "print(type(data2))"
   ]
  },
  {
   "cell_type": "markdown",
   "metadata": {},
   "source": [
    "##### re.match()"
   ]
  },
  {
   "cell_type": "code",
   "execution_count": 208,
   "metadata": {},
   "outputs": [
    {
     "data": {
      "text/plain": [
       "<re.Match object; span=(0, 7), match='Hawkins'>"
      ]
     },
     "execution_count": 208,
     "metadata": {},
     "output_type": "execute_result"
    }
   ],
   "source": [
    "re.match('\\w+', data)"
   ]
  },
  {
   "cell_type": "markdown",
   "metadata": {},
   "source": [
    "##### re.search()"
   ]
  },
  {
   "cell_type": "code",
   "execution_count": 209,
   "metadata": {},
   "outputs": [
    {
     "name": "stdout",
     "output_type": "stream",
     "text": [
      "<re.Match object; span=(90, 97), match='Stanton'>\n"
     ]
    }
   ],
   "source": [
    "x = re.search('Stanton', data)\n",
    "print(x)"
   ]
  },
  {
   "cell_type": "code",
   "execution_count": 210,
   "metadata": {},
   "outputs": [
    {
     "data": {
      "text/plain": [
       "'Stanton'"
      ]
     },
     "execution_count": 210,
     "metadata": {},
     "output_type": "execute_result"
    }
   ],
   "source": [
    "data[90:97]"
   ]
  },
  {
   "cell_type": "markdown",
   "metadata": {},
   "source": [
    "##### Store the String to a Variable"
   ]
  },
  {
   "cell_type": "code",
   "execution_count": 211,
   "metadata": {},
   "outputs": [
    {
     "name": "stdout",
     "output_type": "stream",
     "text": [
      "For what would you like to search? hello\n",
      "hello not in data\n"
     ]
    }
   ],
   "source": [
    "answer = input('For what would you like to search? ')\n",
    "\n",
    "found = re.search(answer, data)\n",
    "\n",
    "if found:\n",
    "    span_tuple = found.span()\n",
    "    print(f\"I found {answer} in the data from index {span_tuple[0]} to {span_tuple[1]}\")\n",
    "else:\n",
    "    print(f\"{answer} not in data\")"
   ]
  },
  {
   "cell_type": "code",
   "execution_count": 212,
   "metadata": {},
   "outputs": [
    {
     "data": {
      "text/plain": [
       "'Brian'"
      ]
     },
     "execution_count": 212,
     "metadata": {},
     "output_type": "execute_result"
    }
   ],
   "source": [
    "data[99:104]"
   ]
  },
  {
   "cell_type": "markdown",
   "metadata": {},
   "source": [
    "### In-Class Exercise #3 <br>\n",
    "<p>Print each persons name and twitter handle, using groups, should look like:</p>\n",
    "<p>==============<br>\n",
    "   Full Name / Twitter<br>\n",
    "   ==============</p>\n",
    "Derek Hawkins / @derekhawkins\n",
    "\n",
    " Erik Sven-Osterberg / @sverik\n",
    "\n",
    " Ryan Butz / @ryanbutz\n",
    "\n",
    " Example Exampleson / @example\n",
    "\n",
    " Ripal Pael / @ripalp\n",
    "\n",
    " Darth Vader / @darthvader"
   ]
  },
  {
   "cell_type": "code",
   "execution_count": 213,
   "metadata": {
    "scrolled": true
   },
   "outputs": [],
   "source": [
    "names_pattern = re.compile(r\"\"\"\n",
    "    (?P<name>^[\\w\\s]*,\\s[\\w\\s-]+)\\t             # The name of our person: Last, First * all have name match\n",
    "    (?P<email>[\\w+-]+@[\\w.]+)\\s                 # Email of our person: something@something.com * all have email match\n",
    "    (?P<phone>\\(?\\d{3}\\)?[\\s-]\\d{3}-\\d{4})?\\s   # Phone Number: (XXX) XXX-XXXX or XXX-XXX-XXX * not all have phone\n",
    "    (?P<title>[\\w\\s]+,\\s[\\w\\s.]+)\\s*            # Title: Postion, Company * All have title match\n",
    "    (?P<twitter>@[\\w]+)?$                       # Twitter handle: @twittername * not all have twitter\n",
    "\"\"\", re.M|re.X)"
   ]
  },
  {
   "cell_type": "code",
   "execution_count": 214,
   "metadata": {},
   "outputs": [
    {
     "data": {
      "text/plain": [
       "<re.Match object; span=(0, 89), match='Hawkins, Derek\\tderek@codingtemple.com\\t(555) 555>"
      ]
     },
     "execution_count": 214,
     "metadata": {},
     "output_type": "execute_result"
    }
   ],
   "source": [
    "my_match = names_pattern.match(data)\n",
    "my_match"
   ]
  },
  {
   "cell_type": "code",
   "execution_count": 218,
   "metadata": {},
   "outputs": [
    {
     "data": {
      "text/plain": [
       "'@derekhawkins'"
      ]
     },
     "execution_count": 218,
     "metadata": {},
     "output_type": "execute_result"
    }
   ],
   "source": [
    "my_match.group('twitter')"
   ]
  },
  {
   "cell_type": "code",
   "execution_count": 229,
   "metadata": {},
   "outputs": [
    {
     "name": "stdout",
     "output_type": "stream",
     "text": [
      "==================================================\n",
      "Derek Hawkins / @derekhawkins\n",
      "==================================================\n",
      "Sven-Erik Osterberg / @sverik\n",
      "==================================================\n",
      "Ryan Butz / @ryanbutz\n",
      "==================================================\n",
      "Example Exampleson / @example\n",
      "==================================================\n",
      "Ripal Pael / @ripalp\n",
      "==================================================\n",
      "Darth Vader / @darthvader\n",
      "==================================================\n"
     ]
    }
   ],
   "source": [
    "for match in names_pattern.finditer(data):\n",
    "    if match.group('twitter'):\n",
    "        print('='*50)\n",
    "        name = match.group('name')\n",
    "        first_name = name.split(', ')[1]\n",
    "        last_name = name.split(', ')[0]\n",
    "        \n",
    "        print(f\"{first_name} {last_name} / {match.group('twitter')}\")\n",
    "print('='*50)"
   ]
  },
  {
   "cell_type": "markdown",
   "metadata": {},
   "source": [
    "### Regex project\n",
    "\n",
    "Use python to read the file regex_test.txt and print the name on each line using regular expressions and groups (return None for names with no first and last name, or names that aren't properly capitalized)\n",
    "##### Hint: use with open() and readlines()"
   ]
  },
  {
   "cell_type": "code",
   "execution_count": null,
   "metadata": {},
   "outputs": [],
   "source": [
    "\"\"\"\n",
    "Abraham Lincoln\n",
    "Andrew P Garfield\n",
    "Connor Milliken\n",
    "Jordan Alexander Williams\n",
    "None\n",
    "None\n",
    "\"\"\""
   ]
  },
  {
   "cell_type": "code",
   "execution_count": 230,
   "metadata": {},
   "outputs": [
    {
     "name": "stdout",
     "output_type": "stream",
     "text": [
      "Hawkins, Derek\tderek@codingtemple.com\t(555) 555-5555\tTeacher, Coding Temple\t@derekhawkins\n",
      "Stanton, Brian\tbrians@codingtemple.com\t(555) 555-5554\tTeacher, Coding Temple\n",
      "Johnson, Joe\tjoejohnson@codingtemple.com\t\tJohson, Joe\n",
      "Osterberg, Sven-Erik\tgovernor@norrbotten.co.se\t\tGovernor, Norrbotten\t@sverik\n",
      ", Tim\ttim@killerrabbit.com\t\tEnchanter, Killer Rabbit Cave\n",
      "Butz, Ryan\tryanb@codingtemple.com\t(555) 555-5543\tCEO, Coding Temple\t@ryanbutz\n",
      "Doctor, The\tdoctor+companion@tardis.co.uk\t\tTime Lord, Gallifrey\n",
      "Exampleson, Example\tme@example.com\t555-555-5552\tExample, Example Co.\t@example\n",
      "Patel, Ripal\tripalp@codingtemple.com\t(555) 555-5553\tTeacher, Coding Temple\t@ripalp\n",
      "Vader, Darth\tdarth-vader@empire.gov\t(555) 555-4444\tSith Lord, Galactic Empire\t@darthvader\n",
      "Fernandez de la Vega Sanz, Maria Teresa\tmtfvs@spain.gov\t\tFirst Deputy Prime Minister, Spanish Gov\n",
      "\n"
     ]
    }
   ],
   "source": [
    "with open('names.txt') as file:\n",
    "    str_data = file.read()\n",
    "    print(str_data)"
   ]
  },
  {
   "cell_type": "code",
   "execution_count": 231,
   "metadata": {},
   "outputs": [
    {
     "name": "stdout",
     "output_type": "stream",
     "text": [
      "['Hawkins, Derek\\tderek@codingtemple.com\\t(555) 555-5555\\tTeacher, Coding Temple\\t@derekhawkins\\n', 'Stanton, Brian\\tbrians@codingtemple.com\\t(555) 555-5554\\tTeacher, Coding Temple\\n', 'Johnson, Joe\\tjoejohnson@codingtemple.com\\t\\tJohson, Joe\\n', 'Osterberg, Sven-Erik\\tgovernor@norrbotten.co.se\\t\\tGovernor, Norrbotten\\t@sverik\\n', ', Tim\\ttim@killerrabbit.com\\t\\tEnchanter, Killer Rabbit Cave\\n', 'Butz, Ryan\\tryanb@codingtemple.com\\t(555) 555-5543\\tCEO, Coding Temple\\t@ryanbutz\\n', 'Doctor, The\\tdoctor+companion@tardis.co.uk\\t\\tTime Lord, Gallifrey\\n', 'Exampleson, Example\\tme@example.com\\t555-555-5552\\tExample, Example Co.\\t@example\\n', 'Patel, Ripal\\tripalp@codingtemple.com\\t(555) 555-5553\\tTeacher, Coding Temple\\t@ripalp\\n', 'Vader, Darth\\tdarth-vader@empire.gov\\t(555) 555-4444\\tSith Lord, Galactic Empire\\t@darthvader\\n', 'Fernandez de la Vega Sanz, Maria Teresa\\tmtfvs@spain.gov\\t\\tFirst Deputy Prime Minister, Spanish Gov\\n']\n"
     ]
    }
   ],
   "source": [
    "with open('names.txt') as file:\n",
    "    list_data = file.readlines()\n",
    "    print(list_data)"
   ]
  },
  {
   "cell_type": "code",
   "execution_count": 232,
   "metadata": {},
   "outputs": [
    {
     "data": {
      "text/plain": [
       "'Hawkins, Derek\\tderek@codingtemple.com\\t(555) 555-5555\\tTeacher, Coding Temple\\t@derekhawkins\\nStanton, Brian\\tbrians@codingtemple.com\\t(555) 555-5554\\tTeacher, Coding Temple\\nJohnson, Joe\\tjoejohnson@codingtemple.com\\t\\tJohson, Joe\\nOsterberg, Sven-Erik\\tgovernor@norrbotten.co.se\\t\\tGovernor, Norrbotten\\t@sverik\\n, Tim\\ttim@killerrabbit.com\\t\\tEnchanter, Killer Rabbit Cave\\nButz, Ryan\\tryanb@codingtemple.com\\t(555) 555-5543\\tCEO, Coding Temple\\t@ryanbutz\\nDoctor, The\\tdoctor+companion@tardis.co.uk\\t\\tTime Lord, Gallifrey\\nExampleson, Example\\tme@example.com\\t555-555-5552\\tExample, Example Co.\\t@example\\nPatel, Ripal\\tripalp@codingtemple.com\\t(555) 555-5553\\tTeacher, Coding Temple\\t@ripalp\\nVader, Darth\\tdarth-vader@empire.gov\\t(555) 555-4444\\tSith Lord, Galactic Empire\\t@darthvader\\nFernandez de la Vega Sanz, Maria Teresa\\tmtfvs@spain.gov\\t\\tFirst Deputy Prime Minister, Spanish Gov\\n'"
      ]
     },
     "execution_count": 232,
     "metadata": {},
     "output_type": "execute_result"
    }
   ],
   "source": [
    "str_data"
   ]
  },
  {
   "cell_type": "code",
   "execution_count": 233,
   "metadata": {},
   "outputs": [
    {
     "data": {
      "text/plain": [
       "['Hawkins, Derek\\tderek@codingtemple.com\\t(555) 555-5555\\tTeacher, Coding Temple\\t@derekhawkins\\n',\n",
       " 'Stanton, Brian\\tbrians@codingtemple.com\\t(555) 555-5554\\tTeacher, Coding Temple\\n',\n",
       " 'Johnson, Joe\\tjoejohnson@codingtemple.com\\t\\tJohson, Joe\\n',\n",
       " 'Osterberg, Sven-Erik\\tgovernor@norrbotten.co.se\\t\\tGovernor, Norrbotten\\t@sverik\\n',\n",
       " ', Tim\\ttim@killerrabbit.com\\t\\tEnchanter, Killer Rabbit Cave\\n',\n",
       " 'Butz, Ryan\\tryanb@codingtemple.com\\t(555) 555-5543\\tCEO, Coding Temple\\t@ryanbutz\\n',\n",
       " 'Doctor, The\\tdoctor+companion@tardis.co.uk\\t\\tTime Lord, Gallifrey\\n',\n",
       " 'Exampleson, Example\\tme@example.com\\t555-555-5552\\tExample, Example Co.\\t@example\\n',\n",
       " 'Patel, Ripal\\tripalp@codingtemple.com\\t(555) 555-5553\\tTeacher, Coding Temple\\t@ripalp\\n',\n",
       " 'Vader, Darth\\tdarth-vader@empire.gov\\t(555) 555-4444\\tSith Lord, Galactic Empire\\t@darthvader\\n',\n",
       " 'Fernandez de la Vega Sanz, Maria Teresa\\tmtfvs@spain.gov\\t\\tFirst Deputy Prime Minister, Spanish Gov\\n']"
      ]
     },
     "execution_count": 233,
     "metadata": {},
     "output_type": "execute_result"
    }
   ],
   "source": [
    "list_data"
   ]
  }
 ],
 "metadata": {
  "kernelspec": {
   "display_name": "Python 3",
   "language": "python",
   "name": "python3"
  },
  "language_info": {
   "codemirror_mode": {
    "name": "ipython",
    "version": 3
   },
   "file_extension": ".py",
   "mimetype": "text/x-python",
   "name": "python",
   "nbconvert_exporter": "python",
   "pygments_lexer": "ipython3",
   "version": "3.8.5"
  }
 },
 "nbformat": 4,
 "nbformat_minor": 2
}
